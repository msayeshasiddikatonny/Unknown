{
  "nbformat": 4,
  "nbformat_minor": 0,
  "metadata": {
    "colab": {
      "name": "February_24_2021.ipynb",
      "provenance": [],
      "authorship_tag": "ABX9TyORP98Huk9ae9PP4xFDAqZu",
      "include_colab_link": true
    },
    "kernelspec": {
      "display_name": "Python 3",
      "name": "python3"
    }
  },
  "cells": [
    {
      "cell_type": "markdown",
      "metadata": {
        "id": "view-in-github",
        "colab_type": "text"
      },
      "source": [
        "<a href=\"https://colab.research.google.com/github/msayeshasiddikatonny/Unknown/blob/main/February_24_2021.ipynb\" target=\"_parent\"><img src=\"https://colab.research.google.com/assets/colab-badge.svg\" alt=\"Open In Colab\"/></a>"
      ]
    },
    {
      "cell_type": "code",
      "metadata": {
        "colab": {
          "base_uri": "https://localhost:8080/"
        },
        "id": "6yTaZvP-SP4-",
        "outputId": "95b7f0ed-c72e-4546-c3ef-25b062b8b000"
      },
      "source": [
        " \n",
        " \n",
        "string1= input(\"\")\n",
        "start=0\n",
        "end=0\n",
        "string2=string1[start+1::]\n",
        "for i in string1:\n",
        "  if i.isupper():\n",
        "    start=i\n",
        "    break\n",
        "  else:\n",
        "    start+=1\n",
        "string2=string1[start+1:-1]\n",
        "\n",
        "for j in string2:\n",
        "  if j.isupper():\n",
        "    end=j\n",
        "    break\n",
        "  else:\n",
        "    end+=1\n",
        "if len(string2[:end:])==0:\n",
        "  print(\"BLANK\")\n",
        "else:\n",
        "  print(string2[start:end:])"
      ],
      "execution_count": 3,
      "outputs": [
        {
          "output_type": "stream",
          "text": [
            "ayesha\n",
            "BLANK\n"
          ],
          "name": "stdout"
        }
      ]
    },
    {
      "cell_type": "code",
      "metadata": {
        "id": "_sMp-GF4Xk9s"
      },
      "source": [
        "b a N"
      ],
      "execution_count": null,
      "outputs": []
    }
  ]
}